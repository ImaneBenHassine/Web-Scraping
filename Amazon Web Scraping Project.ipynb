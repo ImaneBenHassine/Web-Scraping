{
 "cells": [
  {
   "cell_type": "markdown",
   "metadata": {},
   "source": [
    "### Import libraries \n",
    "\n"
   ]
  },
  {
   "cell_type": "code",
   "execution_count": 1,
   "metadata": {},
   "outputs": [],
   "source": [
    "from bs4 import BeautifulSoup\n",
    "import requests\n",
    "import time\n",
    "import datetime\n",
    "import lxml\n",
    "\n",
    "import smtplib"
   ]
  },
  {
   "cell_type": "markdown",
   "metadata": {},
   "source": [
    "### Connect to Website and pull in data"
   ]
  },
  {
   "cell_type": "code",
   "execution_count": 2,
   "metadata": {
    "scrolled": true
   },
   "outputs": [
    {
     "name": "stdout",
     "output_type": "stream",
     "text": [
      "\n",
      "            Hands-On Web Scraping with Python: Perform advanced scraping operations using various Python libraries and tools such as Selenium, Regex, and others\n",
      "           \n",
      "\n",
      "                $15.24\n",
      "               \n"
     ]
    }
   ],
   "source": [
    "url='https://www.amazon.com/Hands-Web-Scraping-Python-operations-ebook/dp/B07VFFYPGK/ref=pd_sim_2/141-7203989-8604655?pd_rd_w=MOjOo&pf_rd_p=6caf1c3a-a843-4189-8efc-81b67e85dc96&pf_rd_r=MH227JE6KCJMPB57BB95&pd_rd_r=f1d6eb2f-055e-4e53-a7eb-01673882002b&pd_rd_wg=DrhvJ&pd_rd_i=B07VFFYPGK&psc=1'\n",
    "\n",
    "\n",
    "headers = {\"User-Agent\": \"Mozilla/5.0 (Windows NT 10.0; Win64; x64) AppleWebKit/537.36 (KHTML, like Gecko) Chrome/94.0.4606.81 Safari/537.36\", \"Accept-Encoding\":\"gzip, deflate\",\n",
    "           \"Accept\":\"text/html,application/xhtml+xml,application/xml;q=0.9,*/*;q=0.8\", \"DNT\":\"1\",\n",
    "           \"Connection\":\"close\", \"Upgrade-Insecure-Requests\":\"1\"}\n",
    "\n",
    "page= requests.get(url, headers=headers)\n",
    "soup1= BeautifulSoup(page.content, \"html.parser\")\n",
    "soup2= BeautifulSoup (soup1.prettify(),\"html.parser\")\n",
    "title=soup2.find(id=\"productTitle\").get_text()\n",
    "price=soup2.find(id=\"kindle-price\").get_text()\n",
    "\n",
    "print(title)\n",
    "print (price)\n"
   ]
  },
  {
   "cell_type": "markdown",
   "metadata": {},
   "source": [
    "### Clean up the data a little bit"
   ]
  },
  {
   "cell_type": "code",
   "execution_count": 3,
   "metadata": {},
   "outputs": [
    {
     "name": "stdout",
     "output_type": "stream",
     "text": [
      "Hands-On Web Scraping with Python: Perform advanced scraping operations using various Python libraries and tools such as Selenium, Regex, and others\n",
      "15.24\n"
     ]
    },
    {
     "data": {
      "text/plain": [
       "str"
      ]
     },
     "execution_count": 3,
     "metadata": {},
     "output_type": "execute_result"
    }
   ],
   "source": [
    "price=price.strip()[1:]\n",
    "title =title.strip()\n",
    "print(title)\n",
    "print (price)\n",
    "type (price)"
   ]
  },
  {
   "cell_type": "markdown",
   "metadata": {},
   "source": [
    "### Create a Timestamp to track when data was collected\n"
   ]
  },
  {
   "cell_type": "code",
   "execution_count": 4,
   "metadata": {},
   "outputs": [],
   "source": [
    "import datetime\n",
    "\n",
    "today= datetime.date.today()"
   ]
  },
  {
   "cell_type": "code",
   "execution_count": 5,
   "metadata": {},
   "outputs": [],
   "source": [
    "import csv\n",
    "\n",
    "header=['Title', 'Price','Date']\n",
    "data=[title, price, today]\n",
    "#type(data) it is a list\n",
    "\n",
    "with open('AmazonWebScraperdataset.csv','w', newline='', encoding='UTF8') as f:\n",
    "    writer=csv.writer(f)  #creating the csv\n",
    "    writer.writerow(header) #inserting the headers\n",
    "    writer.writerow(data) #inserting the data\n"
   ]
  },
  {
   "cell_type": "code",
   "execution_count": 6,
   "metadata": {},
   "outputs": [
    {
     "name": "stdout",
     "output_type": "stream",
     "text": [
      "                                               Title  Price        Date\n",
      "0  Hands-On Web Scraping with Python: Perform adv...  15.24  2021-11-17\n"
     ]
    }
   ],
   "source": [
    "import pandas as pd\n",
    "\n",
    "df=pd.read_csv(r'C:\\Users\\user\\AmazonWebScraperdataset.csv')\n",
    "print(df)"
   ]
  },
  {
   "cell_type": "markdown",
   "metadata": {},
   "source": [
    "### Appende data to the csv"
   ]
  },
  {
   "cell_type": "code",
   "execution_count": 7,
   "metadata": {},
   "outputs": [],
   "source": [
    "with open('AmazonWebScraperDataset.csv', 'a+', newline='', encoding='UTF8') as f:\n",
    "    writer = csv.writer(f)\n",
    "    writer.writerow(data)"
   ]
  },
  {
   "cell_type": "markdown",
   "metadata": {},
   "source": [
    "### Combine all of the above code into one function"
   ]
  },
  {
   "cell_type": "code",
   "execution_count": null,
   "metadata": {},
   "outputs": [],
   "source": [
    "\n",
    "def check_price():\n",
    "\n",
    " url='https://www.amazon.com/Hands-Web-Scraping-Python-operations-ebook/dp/B07VFFYPGK/ref=pd_sim_2/141-7203989-8604655?pd_rd_w=MOjOo&pf_rd_p=6caf1c3a-a843-4189-8efc-81b67e85dc96&pf_rd_r=MH227JE6KCJMPB57BB95&pd_rd_r=f1d6eb2f-055e-4e53-a7eb-01673882002b&pd_rd_wg=DrhvJ&pd_rd_i=B07VFFYPGK&psc=1'\n",
    " \n",
    " headers = {\"User-Agent\": \"Mozilla/5.0 (Windows NT 10.0; Win64; x64) AppleWebKit/537.36 (KHTML, like Gecko) Chrome/94.0.4606.81 Safari/537.36\", \"Accept-Encoding\":\"gzip, deflate\",\"Accept\":\"text/html,application/xhtml+xml,application/xml;q=0.9,*/*;q=0.8\", \"DNT\":\"1\",\"Connection\":\"close\", \"Upgrade-Insecure-Requests\":\"1\"}\n",
    "\n",
    " page= requests.get(url, headers=headers)\n",
    "\n",
    " soup1= BeautifulSoup(page.content, \"html.parser\")\n",
    "    \n",
    " soup2= BeautifulSoup (soup1.prettify(),\"html.parser\")\n",
    "\n",
    " title=soup2.find(id=\"productTitle\").get_text()\n",
    "    \n",
    " price=soup2.find(id=\"kindle-price\").get_text()\n",
    " \n",
    " price = price.strip()[1:]\n",
    " title = title.strip()\n",
    "\n",
    " import datetime\n",
    "\n",
    " today = datetime.date.today()\n",
    "    \n",
    " import csv \n",
    "\n",
    " header = ['Title', 'Price', 'Date']\n",
    " data = [title, price, today]\n",
    "\n",
    " with open('AmazonWebScraperDataset.csv', 'a+', newline='', encoding='UTF8') as f:\n",
    "        writer = csv.writer(f)\n",
    "        writer.writerow(data)\n",
    " \n",
    "  if(price< 14):\n",
    "        send_mail()"
   ]
  },
  {
   "cell_type": "markdown",
   "metadata": {},
   "source": [
    "add a timer and Runs check_price after a set time and inputs data into your CSV"
   ]
  },
  {
   "cell_type": "code",
   "execution_count": null,
   "metadata": {},
   "outputs": [],
   "source": [
    "\n",
    "while(True):\n",
    "    check_price()\n",
    "    time.sleep(5)"
   ]
  },
  {
   "cell_type": "markdown",
   "metadata": {},
   "source": [
    "check how much data is in there\n",
    "\n",
    "we can add a checking after day to see how the prices changes often and maybe do some time series analysis"
   ]
  },
  {
   "cell_type": "code",
   "execution_count": null,
   "metadata": {},
   "outputs": [],
   "source": [
    "import pandas as pd\n",
    "\n",
    "df=pd.read_csv(r'C:\\Users\\user\\AmazonWebScraperdataset.csv')\n",
    "print(df)"
   ]
  },
  {
   "cell_type": "markdown",
   "metadata": {},
   "source": [
    "I choose to send myself an email (just for fun) when a price hits below a certain level you can try it out with this script"
   ]
  },
  {
   "cell_type": "code",
   "execution_count": null,
   "metadata": {},
   "outputs": [],
   "source": [
    "def send_mail():\n",
    "    server = smtplib.SMTP_SSL('smtp.gmail.com',465)\n",
    "    server.ehlo()\n",
    "    #server.starttls()\n",
    "    server.ehlo()\n",
    "    server.login('imen.bh17@gmail.com','xxxxxxxxxxxxxx')\n",
    "    \n",
    "    subject = \"The Book you want is below $14! Now is your chance to buy!\"\n",
    "    body = \"Imane, This is the moment we have been waiting for. Now is your chance to pick up the book you need. ! Link here:https://www.amazon.com/Hands-Web-Scraping-Python-operations-ebook/dp/B07VFFYPGK/ref=pd_sim_2/141-7203989-8604655?pd_rd_w=MOjOo&pf_rd_p=6caf1c3a-a843-4189-8efc-81b67e85dc96&pf_rd_r=MH227JE6KCJMPB57BB95&pd_rd_r=f1d6eb2f-055e-4e53-a7eb-01673882002b&pd_rd_wg=DrhvJ&pd_rd_i=B07VFFYPGK&psc=1\"\n",
    "\n",
    "    msg = f\"Subject: {subject}\\n\\n{body}\"\n",
    "    \n",
    "    server.sendmail(\n",
    "        'imen.bh17@gmail.com',\n",
    "        msg\n",
    "     \n",
    "    )"
   ]
  },
  {
   "cell_type": "code",
   "execution_count": null,
   "metadata": {},
   "outputs": [],
   "source": []
  }
 ],
 "metadata": {
  "kernelspec": {
   "display_name": "Python 3",
   "language": "python",
   "name": "python3"
  },
  "language_info": {
   "codemirror_mode": {
    "name": "ipython",
    "version": 3
   },
   "file_extension": ".py",
   "mimetype": "text/x-python",
   "name": "python",
   "nbconvert_exporter": "python",
   "pygments_lexer": "ipython3",
   "version": "3.8.5"
  }
 },
 "nbformat": 4,
 "nbformat_minor": 4
}
